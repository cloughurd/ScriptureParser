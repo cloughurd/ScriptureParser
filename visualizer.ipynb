{
 "cells": [
  {
   "cell_type": "code",
   "execution_count": 4,
   "metadata": {},
   "outputs": [
    {
     "data": {
      "text/plain": [
       "{'ot': {'word_count': 609233, 'verse_count': 23145},\n",
       " 'nt': {'word_count': 180380, 'verse_count': 7957},\n",
       " 'bm': {'word_count': 266923, 'verse_count': 6604},\n",
       " 'dc': {'word_count': 111814, 'verse_count': 3654},\n",
       " 'pgp': {'word_count': 26346, 'verse_count': 635}}"
      ]
     },
     "execution_count": 4,
     "metadata": {},
     "output_type": "execute_result"
    }
   ],
   "source": [
    "from field_extractor import extract_book\n",
    "\n",
    "volumes = {\n",
    "    'ot':{},\n",
    "    'nt':{},\n",
    "    'bm':{},\n",
    "    'dc':{},\n",
    "    'pgp':{}\n",
    "}\n",
    "for v in volumes:\n",
    "    meta = extract_book(v, 'meta')\n",
    "    volumes[v]['word_count'] = meta['word_count']\n",
    "    volumes[v]['verse_count'] = meta['verse_count']\n",
    "volumes"
   ]
  },
  {
   "cell_type": "code",
   "execution_count": null,
   "metadata": {},
   "outputs": [],
   "source": []
  }
 ],
 "metadata": {
  "kernelspec": {
   "display_name": "Python 3",
   "language": "python",
   "name": "python3"
  },
  "language_info": {
   "codemirror_mode": {
    "name": "ipython",
    "version": 3
   },
   "file_extension": ".py",
   "mimetype": "text/x-python",
   "name": "python",
   "nbconvert_exporter": "python",
   "pygments_lexer": "ipython3",
   "version": "3.7.1"
  }
 },
 "nbformat": 4,
 "nbformat_minor": 2
}
